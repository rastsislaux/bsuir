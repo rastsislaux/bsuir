{
 "cells": [
  {
   "cell_type": "markdown",
   "metadata": {},
   "source": [
    "Шифр Цезаря – это один из шифров подстановки, в котором каждый символ открытого текста заменяется символом, находящимся на некотором, определяемом ключом, постоянном числе позиций левее или правее него в алфавите.\n",
    "\n",
    "Для реализация, создадим строку, вклдчающую в себя все символы русского алфавита:"
   ]
  },
  {
   "cell_type": "code",
   "execution_count": 412,
   "metadata": {},
   "outputs": [
    {
     "name": "stdout",
     "output_type": "stream",
     "text": [
      "Алфавит без сдвига: `АБВГДЕЁЖЗИЙКЛМНОПРСТУФХЦЧШЩЪЫЭЮЯ`\n"
     ]
    }
   ],
   "source": [
    "alphabet = \"АБВГДЕЁЖЗИЙКЛМНОПРСТУФХЦЧШЩЪЫЭЮЯ\"\n",
    "\n",
    "print(f\"Алфавит без сдвига: `{alphabet}`\")"
   ]
  },
  {
   "cell_type": "markdown",
   "metadata": {},
   "source": [
    "Теперь, необходимо создать зашифрованный алфавит. Для этого создадим функцию, смещающую алфавит на необходимое количество символов:"
   ]
  },
  {
   "cell_type": "code",
   "execution_count": 413,
   "metadata": {},
   "outputs": [
    {
     "name": "stdout",
     "output_type": "stream",
     "text": [
      "Алфавит со сдвигом: `ГДЕЁЖЗИЙКЛМНОПРСТУФХЦЧШЩЪЫЭЮЯАБВ`\n"
     ]
    }
   ],
   "source": [
    "def encrypt_alphabet(alphabet: str, shift: int) -> str:\n",
    "    cipher_alphabet = ''\n",
    "\n",
    "    for char in alphabet:\n",
    "        shifted_index = (alphabet.index(char) + shift) % len(alphabet)\n",
    "        cipher_char = alphabet[shifted_index]\n",
    "        cipher_alphabet += cipher_char\n",
    "\n",
    "    return cipher_alphabet\n",
    "\n",
    "encrypted_alphabet = encrypt_alphabet(alphabet=alphabet, shift=3)\n",
    "\n",
    "print(f\"Алфавит со сдвигом: `{encrypted_alphabet}`\")"
   ]
  },
  {
   "cell_type": "markdown",
   "metadata": {},
   "source": [
    "Далее нам необходимо реализовать функционал шифрования данного текста, для этого мы создадим класс, который будет инкапсулировать весь функционал, связанный с шифрованием:"
   ]
  },
  {
   "cell_type": "code",
   "execution_count": 414,
   "metadata": {},
   "outputs": [],
   "source": [
    "class CaesarEncryptor:\n",
    "\n",
    "    def __init__(self, alphabet: str, alphabet_encrypter, shift: int) -> None:\n",
    "        self._alphabet = alphabet\n",
    "        self._encrypted_alphabet = alphabet_encrypter(alphabet, shift)\n",
    "\n",
    "    def apply(self, string: str) -> str:\n",
    "        string = string.upper()\n",
    "        result = \"\"\n",
    "        for char in string:\n",
    "            if char in alphabet:\n",
    "                result += self._encrypted_alphabet[self._alphabet.find(char)]\n",
    "            else:\n",
    "                result += char\n",
    "        return result"
   ]
  },
  {
   "cell_type": "markdown",
   "metadata": {},
   "source": [
    "Опробуем созданный шифратор на нескольких примерах, для этого создадим объект шифратора, используя ранее созданную функцию шифра алфавита и сдвиг в 3 буквы вправо:"
   ]
  },
  {
   "cell_type": "code",
   "execution_count": 415,
   "metadata": {},
   "outputs": [
    {
     "data": {
      "text/html": [
       "<table border=\"1\" class=\"dataframe\">\n",
       "  <thead>\n",
       "    <tr style=\"text-align: right;\">\n",
       "      <th>Исходный текст</th>\n",
       "      <th>Зашифрованный текст</th>\n",
       "    </tr>\n",
       "  </thead>\n",
       "  <tbody>\n",
       "    <tr>\n",
       "      <td>Тише едешь - дальше будешь</td>\n",
       "      <td>ХЛЫЗ ЗЖЗЫЬ - ЖГОЬЫЗ ДЦЖЗЫЬ</td>\n",
       "    </tr>\n",
       "    <tr>\n",
       "      <td>Жизнь пройти - не поле перейти</td>\n",
       "      <td>ЙЛКРЬ ТУСМХЛ - РЗ ТСОЗ ТЗУЗМХЛ</td>\n",
       "    </tr>\n",
       "    <tr>\n",
       "      <td>Семь раз отмерь - один раз отрежь</td>\n",
       "      <td>ФЗПЬ УГК СХПЗУЬ - СЖЛР УГК СХУЗЙЬ</td>\n",
       "    </tr>\n",
       "  </tbody>\n",
       "</table>"
      ],
      "text/plain": [
       "<IPython.core.display.HTML object>"
      ]
     },
     "metadata": {},
     "output_type": "display_data"
    }
   ],
   "source": [
    "key = CaesarEncryptor(alphabet=alphabet, alphabet_encrypter=encrypt_alphabet, shift=3)\n",
    "\n",
    "t1 = \"Тише едешь - дальше будешь\"\n",
    "t2 = \"Жизнь пройти - не поле перейти\"\n",
    "t3 = \"Семь раз отмерь - один раз отрежь\"\n",
    "\n",
    "e1 = key.apply(t1)\n",
    "e2 = key.apply(t2)\n",
    "e3 = key.apply(t3)\n",
    "\n",
    "from IPython.display import HTML, display\n",
    "import pandas as pd\n",
    "\n",
    "df = pd.DataFrame([\n",
    "    [t1, e1], [t2, e2], [t3, e3]\n",
    "], columns=[\"Исходный текст\", \"Зашифрованный текст\"])\n",
    "\n",
    "display(HTML(df.to_html(index=None)))"
   ]
  },
  {
   "cell_type": "markdown",
   "metadata": {},
   "source": [
    "Для того чтобы проверить корректность работы шифратора, необходимо лишь создать ещё один, со сдвигом влево на 3 символа, который будет действовать как расшифровщик (расшифрование - процесс преобразования зашифрованного сообщения в открытый текст, когда вы знаете ключ шифрования):"
   ]
  },
  {
   "cell_type": "code",
   "execution_count": 416,
   "metadata": {},
   "outputs": [
    {
     "data": {
      "text/html": [
       "<table border=\"1\" class=\"dataframe\">\n",
       "  <thead>\n",
       "    <tr style=\"text-align: right;\">\n",
       "      <th></th>\n",
       "      <th>Зашифрованный текст</th>\n",
       "      <th>Расшифрованный текст</th>\n",
       "    </tr>\n",
       "  </thead>\n",
       "  <tbody>\n",
       "    <tr>\n",
       "      <th>0</th>\n",
       "      <td>ХЛЫЗ ЗЖЗЫЬ - ЖГОЬЫЗ ДЦЖЗЫЬ</td>\n",
       "      <td>ТИШЕ ЕДЕШЬ - ДАЛЬШЕ БУДЕШЬ</td>\n",
       "    </tr>\n",
       "    <tr>\n",
       "      <th>1</th>\n",
       "      <td>ЙЛКРЬ ТУСМХЛ - РЗ ТСОЗ ТЗУЗМХЛ</td>\n",
       "      <td>ЖИЗНЬ ПРОЙТИ - НЕ ПОЛЕ ПЕРЕЙТИ</td>\n",
       "    </tr>\n",
       "    <tr>\n",
       "      <th>2</th>\n",
       "      <td>ФЗПЬ УГК СХПЗУЬ - СЖЛР УГК СХУЗЙЬ</td>\n",
       "      <td>СЕМЬ РАЗ ОТМЕРЬ - ОДИН РАЗ ОТРЕЖЬ</td>\n",
       "    </tr>\n",
       "  </tbody>\n",
       "</table>"
      ],
      "text/plain": [
       "<IPython.core.display.HTML object>"
      ]
     },
     "metadata": {},
     "output_type": "display_data"
    }
   ],
   "source": [
    "decryptor = CaesarEncryptor(alphabet=alphabet, alphabet_encrypter=encrypt_alphabet, shift=-3)\n",
    "\n",
    "d1 = decryptor.apply(e1)\n",
    "d2 = decryptor.apply(e2)\n",
    "d3 = decryptor.apply(e3)\n",
    "\n",
    "df = pd.DataFrame([\n",
    "    [e1, d1], [e2, d2], [e3, d3]\n",
    "], columns=[\"Зашифрованный текст\", \"Расшифрованный текст\"])\n",
    "\n",
    "display(HTML(df.to_html()))\n"
   ]
  },
  {
   "cell_type": "markdown",
   "metadata": {},
   "source": [
    "Таким образом, зная, что для шифрования текста был использован шифр Цезаря, его дешифрование (взлом шифра, попытка вскрытия сообщения, когда вы НЕ знаете ключ шифрования) не представляет сложности, необходимо лишь перебрать небольшое количество возможных сдвигов.\n",
    "\n",
    "Попробуем таким образом взломать первый шифр:"
   ]
  },
  {
   "cell_type": "code",
   "execution_count": 417,
   "metadata": {},
   "outputs": [
    {
     "data": {
      "text/html": [
       "<table border=\"1\" class=\"dataframe\">\n",
       "  <thead>\n",
       "    <tr style=\"text-align: right;\">\n",
       "      <th>Сдвиг</th>\n",
       "      <th>Текст</th>\n",
       "    </tr>\n",
       "  </thead>\n",
       "  <tbody>\n",
       "    <tr>\n",
       "      <td>0</td>\n",
       "      <td>ХЛЫЗ ЗЖЗЫЬ - ЖГОЬЫЗ ДЦЖЗЫЬ</td>\n",
       "    </tr>\n",
       "    <tr>\n",
       "      <td>1</td>\n",
       "      <td>ЦМЭИ ИЗИЭЬ - ЗДПЬЭИ ЕЧЗИЭЬ</td>\n",
       "    </tr>\n",
       "    <tr>\n",
       "      <td>2</td>\n",
       "      <td>ЧНЮЙ ЙИЙЮЬ - ИЕРЬЮЙ ЁШИЙЮЬ</td>\n",
       "    </tr>\n",
       "    <tr>\n",
       "      <td>3</td>\n",
       "      <td>ШОЯК КЙКЯЬ - ЙЁСЬЯК ЖЩЙКЯЬ</td>\n",
       "    </tr>\n",
       "    <tr>\n",
       "      <td>4</td>\n",
       "      <td>ЩПАЛ ЛКЛАЬ - КЖТЬАЛ ЗЪКЛАЬ</td>\n",
       "    </tr>\n",
       "    <tr>\n",
       "      <td>5</td>\n",
       "      <td>ЪРБМ МЛМБЬ - ЛЗУЬБМ ИЫЛМБЬ</td>\n",
       "    </tr>\n",
       "    <tr>\n",
       "      <td>6</td>\n",
       "      <td>ЫСВН НМНВЬ - МИФЬВН ЙЭМНВЬ</td>\n",
       "    </tr>\n",
       "    <tr>\n",
       "      <td>7</td>\n",
       "      <td>ЭТГО ОНОГЬ - НЙХЬГО КЮНОГЬ</td>\n",
       "    </tr>\n",
       "    <tr>\n",
       "      <td>8</td>\n",
       "      <td>ЮУДП ПОПДЬ - ОКЦЬДП ЛЯОПДЬ</td>\n",
       "    </tr>\n",
       "    <tr>\n",
       "      <td>9</td>\n",
       "      <td>ЯФЕР РПРЕЬ - ПЛЧЬЕР МАПРЕЬ</td>\n",
       "    </tr>\n",
       "    <tr>\n",
       "      <td>10</td>\n",
       "      <td>АХЁС СРСЁЬ - РМШЬЁС НБРСЁЬ</td>\n",
       "    </tr>\n",
       "    <tr>\n",
       "      <td>11</td>\n",
       "      <td>БЦЖТ ТСТЖЬ - СНЩЬЖТ ОВСТЖЬ</td>\n",
       "    </tr>\n",
       "    <tr>\n",
       "      <td>12</td>\n",
       "      <td>ВЧЗУ УТУЗЬ - ТОЪЬЗУ ПГТУЗЬ</td>\n",
       "    </tr>\n",
       "    <tr>\n",
       "      <td>13</td>\n",
       "      <td>ГШИФ ФУФИЬ - УПЫЬИФ РДУФИЬ</td>\n",
       "    </tr>\n",
       "    <tr>\n",
       "      <td>14</td>\n",
       "      <td>ДЩЙХ ХФХЙЬ - ФРЭЬЙХ СЕФХЙЬ</td>\n",
       "    </tr>\n",
       "    <tr>\n",
       "      <td>15</td>\n",
       "      <td>ЕЪКЦ ЦХЦКЬ - ХСЮЬКЦ ТЁХЦКЬ</td>\n",
       "    </tr>\n",
       "    <tr>\n",
       "      <td>16</td>\n",
       "      <td>ЁЫЛЧ ЧЦЧЛЬ - ЦТЯЬЛЧ УЖЦЧЛЬ</td>\n",
       "    </tr>\n",
       "    <tr>\n",
       "      <td>17</td>\n",
       "      <td>ЖЭМШ ШЧШМЬ - ЧУАЬМШ ФЗЧШМЬ</td>\n",
       "    </tr>\n",
       "    <tr>\n",
       "      <td>18</td>\n",
       "      <td>ЗЮНЩ ЩШЩНЬ - ШФБЬНЩ ХИШЩНЬ</td>\n",
       "    </tr>\n",
       "    <tr>\n",
       "      <td>19</td>\n",
       "      <td>ИЯОЪ ЪЩЪОЬ - ЩХВЬОЪ ЦЙЩЪОЬ</td>\n",
       "    </tr>\n",
       "    <tr>\n",
       "      <td>20</td>\n",
       "      <td>ЙАПЫ ЫЪЫПЬ - ЪЦГЬПЫ ЧКЪЫПЬ</td>\n",
       "    </tr>\n",
       "    <tr>\n",
       "      <td>21</td>\n",
       "      <td>КБРЭ ЭЫЭРЬ - ЫЧДЬРЭ ШЛЫЭРЬ</td>\n",
       "    </tr>\n",
       "    <tr>\n",
       "      <td>22</td>\n",
       "      <td>ЛВСЮ ЮЭЮСЬ - ЭШЕЬСЮ ЩМЭЮСЬ</td>\n",
       "    </tr>\n",
       "    <tr>\n",
       "      <td>23</td>\n",
       "      <td>МГТЯ ЯЮЯТЬ - ЮЩЁЬТЯ ЪНЮЯТЬ</td>\n",
       "    </tr>\n",
       "    <tr>\n",
       "      <td>24</td>\n",
       "      <td>НДУА АЯАУЬ - ЯЪЖЬУА ЫОЯАУЬ</td>\n",
       "    </tr>\n",
       "    <tr>\n",
       "      <td>25</td>\n",
       "      <td>ОЕФБ БАБФЬ - АЫЗЬФБ ЭПАБФЬ</td>\n",
       "    </tr>\n",
       "    <tr>\n",
       "      <td>26</td>\n",
       "      <td>ПЁХВ ВБВХЬ - БЭИЬХВ ЮРБВХЬ</td>\n",
       "    </tr>\n",
       "    <tr>\n",
       "      <td>27</td>\n",
       "      <td>РЖЦГ ГВГЦЬ - ВЮЙЬЦГ ЯСВГЦЬ</td>\n",
       "    </tr>\n",
       "    <tr>\n",
       "      <td>28</td>\n",
       "      <td>СЗЧД ДГДЧЬ - ГЯКЬЧД АТГДЧЬ</td>\n",
       "    </tr>\n",
       "    <tr>\n",
       "      <td>29</td>\n",
       "      <td>ТИШЕ ЕДЕШЬ - ДАЛЬШЕ БУДЕШЬ</td>\n",
       "    </tr>\n",
       "    <tr>\n",
       "      <td>30</td>\n",
       "      <td>УЙЩЁ ЁЕЁЩЬ - ЕБМЬЩЁ ВФЕЁЩЬ</td>\n",
       "    </tr>\n",
       "    <tr>\n",
       "      <td>31</td>\n",
       "      <td>ФКЪЖ ЖЁЖЪЬ - ЁВНЬЪЖ ГХЁЖЪЬ</td>\n",
       "    </tr>\n",
       "  </tbody>\n",
       "</table>"
      ],
      "text/plain": [
       "<IPython.core.display.HTML object>"
      ]
     },
     "metadata": {},
     "output_type": "display_data"
    }
   ],
   "source": [
    "possible_original_texts = []\n",
    "\n",
    "for shift in range(len(alphabet)):\n",
    "    possible_decryptor = CaesarEncryptor(alphabet=alphabet, alphabet_encrypter=encrypt_alphabet, shift=shift)\n",
    "    possible_original_texts.append([shift, possible_decryptor.apply(e1)])\n",
    "\n",
    "df = pd.DataFrame(possible_original_texts, columns=[\"Сдвиг\", \"Текст\"])\n",
    "display(HTML(df.to_html(index=None)))"
   ]
  },
  {
   "cell_type": "markdown",
   "metadata": {},
   "source": [
    "Таким образом, можно сделать вывод, что в современных реалиях шифр Цезаря невероятно слаб. Во времена жизни Цезаря, ставка делалась на то, что потенциальному взломщику незнаком алгоритм шифрования и уж тем более основы криптографии, что было вполне ожидаемо при уровне образования и развития криптографии того времени.\n",
    "\n",
    "В наши дни, делать ставку на незнание противником алгоритма нельзя. Также, с учетом доступных ныне вычислительных мощностей, 33 варианта ключа - невероятно маленькое количество, которое любой компьютер способен проверить за доли секунды, именно поэтому шифр Цезаря нельзя считать безопасным.\n",
    "\n",
    "Иной слабостью является однозначность соответствия букв - одна и та же буква оригинального текста всегда соответствует одной и той же букве зашифрованного текста.\n",
    "\n",
    "Попробуем усложнить шифр, решив две вышеописанные проблемы: в качестве ключа мы будем использовать некоторую математическую функцию, которая для каждого отдельного символа будет определять сдвиг на основании его положения в тексте. Таким образом, для расшифрования текста будет необходимо знать эту самую функцию, число которых запредельно, что не позволит взломать шифр перебором, а использование положения символа в тексте позволит избежать взлома путём частотного анализа:"
   ]
  },
  {
   "cell_type": "code",
   "execution_count": 418,
   "metadata": {},
   "outputs": [],
   "source": [
    "class BetterCaesarEncryptor:\n",
    "\n",
    "    def __init__(self, alphabet: str, alphabet_encrypter, shift_supplier) -> None:\n",
    "        self._alphabet = alphabet\n",
    "        self._alphabet_encrypter = alphabet_encrypter\n",
    "        self._shift_supplier = shift_supplier\n",
    "\n",
    "    def apply(self, string: str) -> str:\n",
    "        string = string.upper()\n",
    "        result = \"\"\n",
    "        for pos, char in enumerate(string):\n",
    "            if char in alphabet:\n",
    "                encrypted_alphabet = self._alphabet_encrypter(alphabet, self._shift_supplier(pos))\n",
    "                result += encrypted_alphabet[self._alphabet.find(char)]\n",
    "            else:\n",
    "                result += char\n",
    "        return result"
   ]
  },
  {
   "cell_type": "markdown",
   "metadata": {},
   "source": [
    "В качестве примера, используем такую функцию:"
   ]
  },
  {
   "cell_type": "code",
   "execution_count": 419,
   "metadata": {},
   "outputs": [],
   "source": [
    "def key_function(pos: int) -> int:\n",
    "    return 17 * pos - 518 "
   ]
  },
  {
   "cell_type": "markdown",
   "metadata": {},
   "source": [
    "Создадим шифратор и зашифруем несколько текстов:"
   ]
  },
  {
   "cell_type": "code",
   "execution_count": 420,
   "metadata": {},
   "outputs": [
    {
     "data": {
      "text/html": [
       "<table border=\"1\" class=\"dataframe\">\n",
       "  <thead>\n",
       "    <tr style=\"text-align: right;\">\n",
       "      <th></th>\n",
       "      <th>Оригинальный текст</th>\n",
       "      <th>Зашифрованный текст</th>\n",
       "    </tr>\n",
       "  </thead>\n",
       "  <tbody>\n",
       "    <tr>\n",
       "      <th>0</th>\n",
       "      <td>Тише едешь - дальше будешь</td>\n",
       "      <td>МУФС УДХЪЬ - ЪЗЕЬУР ОТУЁКЬ</td>\n",
       "    </tr>\n",
       "    <tr>\n",
       "      <th>1</th>\n",
       "      <td>Жизнь пройти - не поле перейти</td>\n",
       "      <td>БУДЪЬ ПВРЭЦЮ - ЖО ЫЛЩД РЦУШОИП</td>\n",
       "    </tr>\n",
       "    <tr>\n",
       "      <th>2</th>\n",
       "      <td>Семь раз отмерь - один раз отрежь</td>\n",
       "      <td>ЛПИЬ ААШ ВЦВКЗЬ - ЪБЦМ ССК УИЧЭПЬ</td>\n",
       "    </tr>\n",
       "  </tbody>\n",
       "</table>"
      ],
      "text/plain": [
       "<IPython.core.display.HTML object>"
      ]
     },
     "metadata": {},
     "output_type": "display_data"
    }
   ],
   "source": [
    "encryptor = BetterCaesarEncryptor(\n",
    "    alphabet=alphabet,\n",
    "    alphabet_encrypter=encrypt_alphabet,\n",
    "    shift_supplier=key_function\n",
    ")\n",
    "\n",
    "e1 = encryptor.apply(t1)\n",
    "e2 = encryptor.apply(t2)\n",
    "e3 = encryptor.apply(t3)\n",
    "\n",
    "df = pd.DataFrame([\n",
    "    [t1, e1], [t2, e2], [t3, e3]\n",
    "], columns=[\"Оригинальный текст\", \"Зашифрованный текст\"], index=None)\n",
    "\n",
    "display(HTML(df.to_html()))"
   ]
  },
  {
   "cell_type": "markdown",
   "metadata": {},
   "source": [
    "Для того, чтобы расшифровать сообщения, понадобится использовать такой же шифратор, но с отраженным сдвигом:"
   ]
  },
  {
   "cell_type": "code",
   "execution_count": 421,
   "metadata": {},
   "outputs": [
    {
     "data": {
      "text/html": [
       "<table border=\"1\" class=\"dataframe\">\n",
       "  <thead>\n",
       "    <tr style=\"text-align: right;\">\n",
       "      <th></th>\n",
       "      <th>Зашифрованный текст</th>\n",
       "      <th>Расшифровнный текст</th>\n",
       "    </tr>\n",
       "  </thead>\n",
       "  <tbody>\n",
       "    <tr>\n",
       "      <th>0</th>\n",
       "      <td>МУФС УДХЪЬ - ЪЗЕЬУР ОТУЁКЬ</td>\n",
       "      <td>ТИШЕ ЕДЕШЬ - ДАЛЬШЕ БУДЕШЬ</td>\n",
       "    </tr>\n",
       "    <tr>\n",
       "      <th>1</th>\n",
       "      <td>БУДЪЬ ПВРЭЦЮ - ЖО ЫЛЩД РЦУШОИП</td>\n",
       "      <td>ЖИЗНЬ ПРОЙТИ - НЕ ПОЛЕ ПЕРЕЙТИ</td>\n",
       "    </tr>\n",
       "    <tr>\n",
       "      <th>2</th>\n",
       "      <td>ЛПИЬ ААШ ВЦВКЗЬ - ЪБЦМ ССК УИЧЭПЬ</td>\n",
       "      <td>СЕМЬ РАЗ ОТМЕРЬ - ОДИН РАЗ ОТРЕЖЬ</td>\n",
       "    </tr>\n",
       "  </tbody>\n",
       "</table>"
      ],
      "text/plain": [
       "<IPython.core.display.HTML object>"
      ]
     },
     "metadata": {},
     "output_type": "display_data"
    }
   ],
   "source": [
    "def reverse_key(pos: int):\n",
    "    return -key_function(pos)\n",
    "\n",
    "decryptor = BetterCaesarEncryptor(\n",
    "    alphabet=alphabet,\n",
    "    alphabet_encrypter=encrypt_alphabet,\n",
    "    shift_supplier=reverse_key\n",
    ")\n",
    "\n",
    "d1 = decryptor.apply(e1)\n",
    "d2 = decryptor.apply(e2)\n",
    "d3 = decryptor.apply(e3)\n",
    "\n",
    "df = pd.DataFrame([\n",
    "    [e1, d1], [e2, d2], [e3, d3]\n",
    "], columns=[\"Зашифрованный текст\", \"Расшифровнный текст\"], index=None)\n",
    "\n",
    "display(HTML(df.to_html()))"
   ]
  }
 ],
 "metadata": {
  "kernelspec": {
   "display_name": "Python 3",
   "language": "python",
   "name": "python3"
  },
  "language_info": {
   "codemirror_mode": {
    "name": "ipython",
    "version": 3
   },
   "file_extension": ".py",
   "mimetype": "text/x-python",
   "name": "python",
   "nbconvert_exporter": "python",
   "pygments_lexer": "ipython3",
   "version": "3.11.4"
  },
  "orig_nbformat": 4
 },
 "nbformat": 4,
 "nbformat_minor": 2
}
