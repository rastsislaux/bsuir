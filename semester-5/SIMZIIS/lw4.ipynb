{
 "cells": [
  {
   "cell_type": "markdown",
   "metadata": {},
   "source": [
    "*Тема*: открытое распространение ключей\n",
    "*Цель*: приобрести навыки понимания основных принципов шифрования ключей. Изучение и реализация протокола Диффи-Хеллмана.\n",
    "\n",
    "*Задача*:\n",
    "Вариант 12: 1877\n",
    "\n",
    "Для заданного простого P (в соответствии с вариантом) найти g – примитивный элемент конечного поля GF(P) и выполнить генерацию общего секрета. Для нахождения g воспользуйтесь методом перебора по возрастанию, возведения в степень по модулю P и проверки того факта, что все степени принимают значения от 0 до P - 1."
   ]
  },
  {
   "cell_type": "markdown",
   "metadata": {},
   "source": [
    "Функция get_private_key() будет генерировать случайное число, которое станет частью ключа:"
   ]
  },
  {
   "cell_type": "code",
   "execution_count": 12,
   "metadata": {},
   "outputs": [],
   "source": [
    "import random\n",
    "\n",
    "def get_private_key(x):\n",
    "    return random.randint(0, x-1)"
   ]
  },
  {
   "cell_type": "markdown",
   "metadata": {},
   "source": [
    "Функция gcd() высчитывает наибольший общий делитель, необходимый для проверки взаимной простоты чисел:"
   ]
  },
  {
   "cell_type": "code",
   "execution_count": 13,
   "metadata": {},
   "outputs": [],
   "source": [
    "def gcd(a, b):\n",
    "    while a != b:\n",
    "        if a > b:\n",
    "            a = a - b\n",
    "        else:\n",
    "            b = b - a\n",
    "    return a"
   ]
  },
  {
   "cell_type": "markdown",
   "metadata": {},
   "source": [
    "Функция get_primitive_root() находит первообразный корень по модулю P. Первообразным корнем по модулю P называют такое число g, что все его степени по модулю P принимают значения всех чисел, взаимно простых с P."
   ]
  },
  {
   "cell_type": "code",
   "execution_count": 14,
   "metadata": {},
   "outputs": [],
   "source": [
    "def get_primitive_root(mod):\n",
    "    required = set(num for num in range(1, mod) if gcd(num, mod) == 1)\n",
    "    for g in range(1, mod):\n",
    "        actual = set(pow(g, power) % mod for power in range(1, mod))\n",
    "        if required == actual:\n",
    "            return g"
   ]
  },
  {
   "cell_type": "markdown",
   "metadata": {},
   "source": [
    "Функция public_key() вычисляет открытый ключ для стороны, используя ее закрытый ключ a, общий параметр g (первообразный корень) и модуль p. Открытый ключ вычисляется как g^a mod p."
   ]
  },
  {
   "cell_type": "code",
   "execution_count": 15,
   "metadata": {},
   "outputs": [],
   "source": [
    "def get_public_key(a, g, p):\n",
    "    public_key = g\n",
    "    while a > 0:\n",
    "        public_key = public_key * g % p\n",
    "        a = a - 1\n",
    "    return public_key"
   ]
  },
  {
   "cell_type": "markdown",
   "metadata": {},
   "source": [
    "Приведем пример работы:"
   ]
  },
  {
   "cell_type": "code",
   "execution_count": 16,
   "metadata": {},
   "outputs": [
    {
     "name": "stdout",
     "output_type": "stream",
     "text": [
      "Абонент      Закрытый ключ    Простое число    Первообразный корень    Открытый ключ    Ключ\n",
      "---------  ---------------  ---------------  ----------------------  ---------------  ------\n",
      "Алиса                  459             1877                       2             1507    1404\n",
      "Боб                   1210             1877                       2             1380    1404\n"
     ]
    }
   ],
   "source": [
    "p = 1877\n",
    "\n",
    "primitive_root = get_primitive_root(p)\n",
    "alice_private = get_private_key(p)\n",
    "bob_private = get_private_key(p)\n",
    "\n",
    "alice_public = get_public_key(alice_private, primitive_root, p)\n",
    "bob_public = get_public_key(bob_private, primitive_root, p)\n",
    "\n",
    "alice_key = get_public_key(alice_private, bob_public, p)\n",
    "bob_key = get_public_key(bob_private, alice_public, p)\n",
    "\n",
    "from tabulate import tabulate\n",
    "\n",
    "print(\n",
    "    tabulate([\n",
    "        [\"Алиса\", alice_private, p, primitive_root, alice_public, alice_key],\n",
    "        [\"Боб\", bob_private, p, primitive_root, bob_public, bob_key],\n",
    "    ], headers=[\"Абонент\", \"Закрытый ключ\", \"Простое число\", \"Первообразный корень\", \"Открытый ключ\", \"Ключ\"])\n",
    ")"
   ]
  }
 ],
 "metadata": {
  "kernelspec": {
   "display_name": "Python 3",
   "language": "python",
   "name": "python3"
  },
  "language_info": {
   "name": "python",
   "version": "3.11.4"
  }
 },
 "nbformat": 4,
 "nbformat_minor": 2
}
