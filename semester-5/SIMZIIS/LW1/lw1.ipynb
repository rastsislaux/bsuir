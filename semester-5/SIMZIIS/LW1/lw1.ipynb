{
 "cells": [
  {
   "cell_type": "markdown",
   "metadata": {},
   "source": [
    "Import required libraries:\n",
    "- `random` for choosing a random \n",
    "- `matplotlib` for plotting"
   ]
  },
  {
   "cell_type": "code",
   "execution_count": 4,
   "metadata": {},
   "outputs": [],
   "source": [
    "import random\n",
    "import matplotlib.pyplot as plt"
   ]
  },
  {
   "cell_type": "markdown",
   "metadata": {},
   "source": [
    "This is a class, which represents every variant in the laboratory work.\n",
    "\n",
    "My variant is `CAPITAL_RUSSIAN` (3)"
   ]
  },
  {
   "cell_type": "code",
   "execution_count": 5,
   "metadata": {},
   "outputs": [],
   "source": [
    "class LWVariant:\n",
    "    CAPITAL_LATIN = 'ABCDEFGHIJKLMNOPQRSTUVWXYZ'\n",
    "    ALL_LATIN = 'abcdefghijklmnopqrstuvwxyzABCDEFGHIJKLMNOPQRSTUVWXYZ'\n",
    "    CAPITAL_RUSSIAN = 'АБВГДЕЁЖЗИЙКЛМНОПРСТУФХЦЧШЩЪЫЬЭЮЯ'\n",
    "    ALL_RUSSIAN = 'абвгдеёжзийклмнопрстуфхцчшщъыьэюяАБВГДЕЁЖЗИЙКЛМНОПРСТУФХЦЧШЩЪЫЬЭЮЯ'\n",
    "    ARABIC_DIGITS = '0123456789'\n",
    "    CAPITAL_LATIN_ARABIC_DIGITS = 'ABCDEFGHIJKLMNOPQRSTUVWXYZ0123456789'\n",
    "    ALL_LATIN_ARABIC_DIGITS = 'abcdefghijklmnopqrstuvwxyzABCDEFGHIJKLMNOPQRSTUVWXYZ0123456789'\n",
    "    CAPITAL_RUSSIAN_ARABIC_DIGITS = 'АБВГДЕЁЖЗИЙКЛМНОПРСТУФХЦЧШЩЪЫЬЭЮЯ0123456789'\n",
    "    ALL_RUSSIAN_ARABIC_DIGITS = 'абвгдеёжзийклмнопрстуфхцчшщъыьэюяАБВГДЕЁЖЗИЙКЛМНОПРСТУФХЦЧШЩЪЫЬЭЮЯ0123456789'\n",
    "    ASCII = ''.join(chr(i) for i in range(128))"
   ]
  },
  {
   "cell_type": "markdown",
   "metadata": {},
   "source": [
    "Password generator class, which takes variant in constructor and has a method to generate password."
   ]
  },
  {
   "cell_type": "code",
   "execution_count": 6,
   "metadata": {},
   "outputs": [],
   "source": [
    "class PasswordGenerator:\n",
    "\n",
    "    def __init__(self, lw_variant: str = LWVariant.CAPITAL_RUSSIAN):\n",
    "        if lw_variant is None:\n",
    "            self.charset = list(lw_variant)\n",
    "        else:\n",
    "            self.charset = list(lw_variant)\n",
    "\n",
    "    def generate(self, length: int):\n",
    "        return ''.join(random.choice(self.charset) for _ in range(length))"
   ]
  },
  {
   "cell_type": "markdown",
   "metadata": {},
   "source": [
    "Class that would plot frequency of each symbol"
   ]
  },
  {
   "cell_type": "code",
   "execution_count": 7,
   "metadata": {},
   "outputs": [],
   "source": [
    "class FrequencyPlotter:\n",
    "    def __init__(self, password_generator):\n",
    "        self.password_generator = password_generator\n",
    "\n",
    "    def plot_frequency(self, password_length: int, num_samples: int):\n",
    "        frequencies = {symbol: 0 for symbol in self.password_generator.charset}\n",
    "        for _ in range(num_samples):\n",
    "            password = self.password_generator.generate(password_length)\n",
    "            for symbol in password:\n",
    "                frequencies[symbol] += 1\n",
    "\n",
    "        symbols = list(frequencies.keys())\n",
    "        counts = list(frequencies.values())\n",
    "\n",
    "        plt.bar(symbols, counts)\n",
    "        plt.xlabel('Symbol')\n",
    "        plt.ylabel('Frequency')\n",
    "        plt.title('Frequency of Symbols in Generated Passwords')\n",
    "        plt.show()"
   ]
  },
  {
   "cell_type": "markdown",
   "metadata": {},
   "source": [
    "Now, we'll see the plot of frequency of each symbol in the charset:"
   ]
  },
  {
   "cell_type": "code",
   "execution_count": 9,
   "metadata": {},
   "outputs": [
    {
     "data": {
      "image/png": "[encoded data removed]",
      "text/plain": [
       "<Figure size 640x480 with 1 Axes>"
      ]
     },
     "metadata": {},
     "output_type": "display_data"
    }
   ],
   "source": [
    "generator = PasswordGenerator(lw_variant=LWVariant.CAPITAL_RUSSIAN)\n",
    "plotter = FrequencyPlotter(generator)\n",
    "\n",
    "plotter.plot_frequency(password_length=16, num_samples=1000)"
   ]
  },
  {
   "cell_type": "markdown",
   "metadata": {},
   "source": [
    "Now, we'll see how long it takes to brutforce a password of a certain length:"
   ]
  },
  {
   "cell_type": "code",
   "execution_count": 50,
   "metadata": {},
   "outputs": [],
   "source": [
    "import itertools\n",
    "import math\n",
    "import time\n",
    "\n",
    "class BruteForceTimePlotter:\n",
    "    def __init__(self, password_generator):\n",
    "        self.password_generator = password_generator\n",
    "\n",
    "    def estimate_brute_force_time(self, password_length: int, samples: int):\n",
    "        charset = self.password_generator.charset\n",
    "        total_time = 0\n",
    "\n",
    "        passwords = [''.join(i) for i in itertools.product(charset, repeat=password_length)]\n",
    "        for _ in range(samples):\n",
    "            generated_password = self.password_generator.generate(length=password_length)\n",
    "            start_time = time.time()\n",
    "            for password in passwords:\n",
    "                if password == generated_password:\n",
    "                    break\n",
    "            end_time = time.time()\n",
    "            total_time += end_time - start_time\n",
    "\n",
    "        return total_time / samples\n",
    "\n",
    "\n",
    "    def plot_average_time(self, max_password_length: int, guesses_per_second: int):\n",
    "        lengths = list(range(1, max_password_length + 1))\n",
    "        average_times = []\n",
    "\n",
    "        for length in lengths:\n",
    "            brute_force_time = self.estimate_brute_force_time(length, guesses_per_second)\n",
    "            average_times.append(brute_force_time)\n",
    "\n",
    "        plt.plot(lengths, average_times)\n",
    "        plt.xlabel('Password Length')\n",
    "        plt.ylabel('Estimated Brute Force Time (seconds)')\n",
    "        plt.title('Estimated Brute Force Time for Passwords of Different Lengths')\n",
    "        plt.show()"
   ]
  },
  {
   "cell_type": "code",
   "execution_count": 51,
   "metadata": {},
   "outputs": [
    {
     "ename": "KeyboardInterrupt",
     "evalue": "",
     "output_type": "error",
     "traceback": [
      "\u001b[1;31m---------------------------------------------------------------------------\u001b[0m",
      "\u001b[1;31mKeyboardInterrupt\u001b[0m                         Traceback (most recent call last)",
      "Cell \u001b[1;32mIn[51], line 3\u001b[0m\n\u001b[0;32m      1\u001b[0m generator \u001b[39m=\u001b[39m PasswordGenerator(lw_variant\u001b[39m=\u001b[39mLWVariant\u001b[39m.\u001b[39mCAPITAL_RUSSIAN)\n\u001b[0;32m      2\u001b[0m plotter \u001b[39m=\u001b[39m BruteForceTimePlotter(generator)\n\u001b[1;32m----> 3\u001b[0m plotter\u001b[39m.\u001b[39;49mplot_average_time(max_password_length\u001b[39m=\u001b[39;49m\u001b[39m5\u001b[39;49m, guesses_per_second\u001b[39m=\u001b[39;49m\u001b[39m10000\u001b[39;49m)\n",
      "Cell \u001b[1;32mIn[50], line 31\u001b[0m, in \u001b[0;36mBruteForceTimePlotter.plot_average_time\u001b[1;34m(self, max_password_length, guesses_per_second)\u001b[0m\n\u001b[0;32m     28\u001b[0m average_times \u001b[39m=\u001b[39m []\n\u001b[0;32m     30\u001b[0m \u001b[39mfor\u001b[39;00m length \u001b[39min\u001b[39;00m lengths:\n\u001b[1;32m---> 31\u001b[0m     brute_force_time \u001b[39m=\u001b[39m \u001b[39mself\u001b[39;49m\u001b[39m.\u001b[39;49mestimate_brute_force_time(length, guesses_per_second)\n\u001b[0;32m     32\u001b[0m     average_times\u001b[39m.\u001b[39mappend(brute_force_time)\n\u001b[0;32m     34\u001b[0m plt\u001b[39m.\u001b[39mplot(lengths, average_times)\n",
      "Cell \u001b[1;32mIn[50], line 18\u001b[0m, in \u001b[0;36mBruteForceTimePlotter.estimate_brute_force_time\u001b[1;34m(self, password_length, samples)\u001b[0m\n\u001b[0;32m     16\u001b[0m start_time \u001b[39m=\u001b[39m time\u001b[39m.\u001b[39mtime()\n\u001b[0;32m     17\u001b[0m \u001b[39mfor\u001b[39;00m password \u001b[39min\u001b[39;00m passwords:\n\u001b[1;32m---> 18\u001b[0m     \u001b[39mif\u001b[39;00m password \u001b[39m==\u001b[39m generated_password:\n\u001b[0;32m     19\u001b[0m         \u001b[39mbreak\u001b[39;00m\n\u001b[0;32m     20\u001b[0m end_time \u001b[39m=\u001b[39m time\u001b[39m.\u001b[39mtime()\n",
      "\u001b[1;31mKeyboardInterrupt\u001b[0m: "
     ]
    }
   ],
   "source": [
    "generator = PasswordGenerator(lw_variant=LWVariant.CAPITAL_RUSSIAN)\n",
    "plotter = BruteForceTimePlotter(generator)\n",
    "plotter.plot_average_time(max_password_length=5, samples=10)"
   ]
  },
  {
   "cell_type": "markdown",
   "metadata": {},
   "source": []
  }
 ],
 "metadata": {
  "kernelspec": {
   "display_name": "Python 3",
   "language": "python",
   "name": "python3"
  },
  "language_info": {
   "codemirror_mode": {
    "name": "ipython",
    "version": 3
   },
   "file_extension": ".py",
   "mimetype": "text/x-python",
   "name": "python",
   "nbconvert_exporter": "python",
   "pygments_lexer": "ipython3",
   "version": "3.11.4"
  },
  "orig_nbformat": 4
 },
 "nbformat": 4,
 "nbformat_minor": 2
}
